{
  "nbformat": 4,
  "nbformat_minor": 0,
  "metadata": {
    "colab": {
      "provenance": [],
      "authorship_tag": "ABX9TyPGHacfCe7OvP4HmxuKTV0I",
      "include_colab_link": true
    },
    "kernelspec": {
      "name": "python3",
      "display_name": "Python 3"
    },
    "language_info": {
      "name": "python"
    }
  },
  "cells": [
    {
      "cell_type": "markdown",
      "metadata": {
        "id": "view-in-github",
        "colab_type": "text"
      },
      "source": [
        "<a href=\"https://colab.research.google.com/github/Harsharan0212/MiniProject01/blob/main/MiniProject01.ipynb\" target=\"_parent\"><img src=\"https://colab.research.google.com/assets/colab-badge.svg\" alt=\"Open In Colab\"/></a>"
      ]
    },
    {
      "cell_type": "markdown",
      "source": [
        "***Subset Selection Problem***\n",
        "---------\n"
      ],
      "metadata": {
        "id": "1vM4WUrM2a_O"
      }
    },
    {
      "cell_type": "markdown",
      "source": [
        "---------\n",
        "Case-1: Subset size must be 5."
      ],
      "metadata": {
        "id": "szsVqKJW3ow0"
      }
    },
    {
      "cell_type": "code",
      "execution_count": 11,
      "metadata": {
        "colab": {
          "base_uri": "https://localhost:8080/"
        },
        "id": "ofuMAofJ0-gs",
        "outputId": "192a600d-1f3a-4b35-cad6-d0d05c285680"
      },
      "outputs": [
        {
          "output_type": "stream",
          "name": "stdout",
          "text": [
            "The subsets whose sum is zero are: \n",
            "(-7, -4, -3, 3, 11)\n",
            "(-6, -5, 1, 3, 7)\n",
            "(-12, -2, 1, 6, 7)\n",
            "(-7, -6, -2, 6, 9)\n",
            "(-9, -3, 1, 2, 9)\n",
            "(-9, -5, -4, 7, 11)\n",
            "(-12, -3, 1, 3, 11)\n",
            "(-7, -3, 1, 2, 7)\n",
            "(-9, -6, -3, 7, 11)\n",
            "(-4, -3, -2, 3, 6)\n",
            "(-8, -4, -2, 3, 11)\n",
            "(-9, -8, 1, 7, 9)\n",
            "(-5, -3, -2, 1, 9)\n",
            "(-6, -4, -3, 2, 11)\n",
            "(-8, -2, 1, 2, 7)\n",
            "(-9, -6, -2, 6, 11)\n",
            "(-7, -3, -2, 1, 11)\n",
            "(-5, -4, -3, 3, 9)\n",
            "(-12, -4, -2, 7, 11)\n",
            "Total number of these subsets are  19\n"
          ]
        },
        {
          "output_type": "stream",
          "name": "stderr",
          "text": [
            "<ipython-input-11-7378646b30a0>:9: DeprecationWarning: Sampling from a set deprecated\n",
            "since Python 3.9 and will be removed in a subsequent version.\n",
            "  SubSet=r.sample(Set,SetSize)\n"
          ]
        }
      ],
      "source": [
        "import random as r\n",
        "Set=set([-12, -3, -6, 7, 2, -2, 6, 3, 9, -7, -5, -8, 1, 11, -9, -4])\n",
        "SetSize=5\n",
        "ResultList=set()\n",
        "Iterations=1000\n",
        "r.seed(50)\n",
        "\n",
        "for i in range(Iterations):\n",
        "  SubSet=r.sample(Set,SetSize)\n",
        "  SubSet.sort()\n",
        "  if sum(SubSet)==0:\n",
        "    ResultList.add(tuple(SubSet))\n",
        "print(\"The subsets whose sum is zero are: \")\n",
        "for r in ResultList:\n",
        "  print(r)\n",
        "\n",
        "print(\"Total number of these subsets are \",len(ResultList))"
      ]
    },
    {
      "cell_type": "markdown",
      "source": [
        "------------\n",
        "Case-2: Subset size must be 3 to 6 only."
      ],
      "metadata": {
        "id": "z7ByMHdF33WN"
      }
    },
    {
      "cell_type": "code",
      "source": [
        "import random as r\n",
        "Set=set([-12, -3, -6, 7, 2, -2, 6, 3, 9, -7, -5, -8, 1, 11, -9, -4])\n",
        "SetLB=3\n",
        "SetUB=6\n",
        "ResultList=set()\n",
        "Iterations=1000\n",
        "r.seed(50)\n",
        "\n",
        "for i in range(Iterations):\n",
        "  SetSize=r.randint(SetLB,SetUB)\n",
        "  SubSet=r.sample(Set,SetSize)\n",
        "  SubSet.sort()\n",
        "  if sum(SubSet)==0:\n",
        "    ResultList.add(tuple(SubSet))\n",
        "print(\"The subsets whose sum is zero are \")\n",
        "for r in ResultList:\n",
        "  print(r)\n",
        "\n",
        "print(\"Total no. of these subsets are: \",len(ResultList))"
      ],
      "metadata": {
        "colab": {
          "base_uri": "https://localhost:8080/"
        },
        "id": "xy7asYxA4Bip",
        "outputId": "8317ab6e-c632-455a-e7d9-1a04da3fdec4"
      },
      "execution_count": 18,
      "outputs": [
        {
          "output_type": "stream",
          "name": "stdout",
          "text": [
            "The subsets whose sum is zero are \n",
            "(-3, -2, 2, 3)\n",
            "(-7, -4, -3, 3, 11)\n",
            "(-8, -6, 3, 11)\n",
            "(-5, 2, 3)\n",
            "(-9, -6, -4, 3, 7, 9)\n",
            "(-12, -2, 3, 11)\n",
            "(-12, -5, -2, 3, 7, 9)\n",
            "(-8, -7, -6, 3, 7, 11)\n",
            "(-7, -2, 9)\n",
            "(-4, -3, -2, 9)\n",
            "(-7, -5, -2, 1, 6, 7)\n",
            "(-7, -6, 6, 7)\n",
            "(-8, -2, 1, 9)\n",
            "(-5, -3, -2, 3, 7)\n",
            "(-8, 1, 7)\n",
            "(-7, -4, 11)\n",
            "(-9, -2, 11)\n",
            "(-8, -4, -2, 3, 11)\n",
            "(-6, -5, -3, 1, 2, 11)\n",
            "(-4, -2, 6)\n",
            "(-5, -2, 7)\n",
            "(-8, -5, -3, 3, 6, 7)\n",
            "(-6, -5, 11)\n",
            "(-12, -4, -2, 1, 6, 11)\n",
            "(-8, -4, 3, 9)\n",
            "(-5, -4, -3, 3, 9)\n",
            "(-7, -5, -4, 7, 9)\n",
            "(-8, -7, -2, 1, 7, 9)\n",
            "(-5, -4, -2, 11)\n",
            "(-12, -4, -2, 7, 11)\n",
            "(-8, -7, -3, -2, 9, 11)\n",
            "Total no. of these subsets are:  31\n"
          ]
        },
        {
          "output_type": "stream",
          "name": "stderr",
          "text": [
            "<ipython-input-18-049c9e3b649a>:11: DeprecationWarning: Sampling from a set deprecated\n",
            "since Python 3.9 and will be removed in a subsequent version.\n",
            "  SubSet=r.sample(Set,SetSize)\n"
          ]
        }
      ]
    }
  ]
}